{
 "cells": [
  {
   "cell_type": "code",
   "execution_count": 1,
   "metadata": {},
   "outputs": [
    {
     "name": "stderr",
     "output_type": "stream",
     "text": [
      "Using TensorFlow backend.\n"
     ]
    }
   ],
   "source": [
    "import keras\n",
    "import os\n",
    "from tqdm import tqdm\n",
    "from mtcnn.mtcnn import MTCNN\n",
    "from PIL import Image\n",
    "import numpy as np\n",
    "from sklearn.preprocessing import LabelEncoder, Normalizer\n",
    "from sklearn.svm import SVC"
   ]
  },
  {
   "cell_type": "code",
   "execution_count": 2,
   "metadata": {},
   "outputs": [],
   "source": [
    "from keras.models import load_model"
   ]
  },
  {
   "cell_type": "code",
   "execution_count": 3,
   "metadata": {},
   "outputs": [
    {
     "name": "stdout",
     "output_type": "stream",
     "text": [
      "WARNING:tensorflow:From C:\\Users\\bhanu pratap singh\\Anaconda3\\lib\\site-packages\\tensorflow\\python\\ops\\resource_variable_ops.py:435: colocate_with (from tensorflow.python.framework.ops) is deprecated and will be removed in a future version.\n",
      "Instructions for updating:\n",
      "Colocations handled automatically by placer.\n"
     ]
    },
    {
     "name": "stderr",
     "output_type": "stream",
     "text": [
      "C:\\Users\\bhanu pratap singh\\Anaconda3\\lib\\site-packages\\keras\\engine\\saving.py:341: UserWarning: No training configuration found in save file: the model was *not* compiled. Compile it manually.\n",
      "  warnings.warn('No training configuration found in save file: '\n"
     ]
    }
   ],
   "source": [
    "model = load_model('facenet_keras.h5')"
   ]
  },
  {
   "cell_type": "code",
   "execution_count": 79,
   "metadata": {},
   "outputs": [],
   "source": [
    "detector = MTCNN()"
   ]
  },
  {
   "cell_type": "code",
   "execution_count": 66,
   "metadata": {},
   "outputs": [],
   "source": [
    "def face_detec(filename, flag = 0):\n",
    "    if flag==0:\n",
    "        image = Image.open(filename)\n",
    "        image = image.convert('RGB')\n",
    "        pixels = np.asarray(image)\n",
    "    else:\n",
    "        pixels = filename\n",
    "    results = detector.detect_faces(pixels)\n",
    "    x1, y1, width, height = results[0]['box']\n",
    "    x1, y1 = abs(x1), abs(y1)\n",
    "    x2, y2 = x1 + width, y1 + height\n",
    "    face = pixels[y1:y2, x1:x2]\n",
    "    image = Image.fromarray(face)\n",
    "    image = image.resize((160, 160))\n",
    "    face_array = np.asarray(image)\n",
    "    return face_array, image"
   ]
  },
  {
   "cell_type": "code",
   "execution_count": 67,
   "metadata": {},
   "outputs": [],
   "source": [
    "def prepro(face_arr):\n",
    "    face_arr = face_arr.astype('float32')\n",
    "    mean, std = face_arr.mean(), face_arr.std()\n",
    "    face_arr = (face_arr - mean)/std\n",
    "    face_arri = np.expand_dims(face_arr, axis = 0)\n",
    "    return face_arri"
   ]
  },
  {
   "cell_type": "code",
   "execution_count": 68,
   "metadata": {},
   "outputs": [],
   "source": [
    "def face_array(imagepath, flag = 0):\n",
    "    face_arr, face_image = face_detec(imagepath, flag)\n",
    "    face_i = prepro(face_arr)\n",
    "    return face_i"
   ]
  },
  {
   "cell_type": "code",
   "execution_count": 69,
   "metadata": {},
   "outputs": [],
   "source": [
    "def face_emb(imagepath, flag = 0):\n",
    "    face_i = face_array(imagepath, flag)\n",
    "    return model.predict(face_i)"
   ]
  },
  {
   "cell_type": "code",
   "execution_count": 70,
   "metadata": {},
   "outputs": [],
   "source": [
    "def load_faces(directory, flag = 0):\n",
    "    faces = list()\n",
    "    for filename in os.listdir(directory):\n",
    "        path = directory + filename\n",
    "        face_arr, face_img  = face_detec(path, flag)\n",
    "        faces.append(face_arr)\n",
    "    return faces"
   ]
  },
  {
   "cell_type": "code",
   "execution_count": 71,
   "metadata": {},
   "outputs": [],
   "source": [
    "def load_dataset(directory, flag = 0):\n",
    "    x, y = list(), list()\n",
    "    for subdir in tqdm(os.listdir(directory)):\n",
    "        path = directory + subdir + '/'\n",
    "        if not os.path.isdir(path):\n",
    "            continue\n",
    "        faces = load_faces(path, flag)\n",
    "\n",
    "        labels = [subdir for _ in range(len(faces))]\n",
    "\n",
    "        x.extend(faces)\n",
    "        y.extend(labels)\n",
    "    return np.asarray(x), np.asarray(y)\n"
   ]
  },
  {
   "cell_type": "code",
   "execution_count": 72,
   "metadata": {},
   "outputs": [],
   "source": [
    "def prepro_Arr(x, flag = 0):\n",
    "    X = list()\n",
    "    for fac in x:\n",
    "        fac = fac.astype('float32')\n",
    "        mean, std = fac.mean(), fac.std()\n",
    "        fac = (fac - mean)/std\n",
    "        face_arri = np.expand_dims(fac, axis = 0)\n",
    "        X.append(face_arri)\n",
    "    return X"
   ]
  },
  {
   "cell_type": "code",
   "execution_count": 73,
   "metadata": {},
   "outputs": [],
   "source": [
    "def face_emb_Arr(X, flag = 0):\n",
    "    face_i_Arr = list()\n",
    "    for face_i in X:\n",
    "        face_i_Arr.append(model.predict(face_i))\n",
    "    return face_i_Arr"
   ]
  },
  {
   "cell_type": "code",
   "execution_count": 74,
   "metadata": {},
   "outputs": [],
   "source": [
    "def face_norm(path, flag= 0):\n",
    "    q = face_emb(path, flag)\n",
    "    return emb_normalizer.transform(q)"
   ]
  },
  {
   "cell_type": "code",
   "execution_count": 75,
   "metadata": {},
   "outputs": [],
   "source": [
    "def predictor(img_path, flag =0):\n",
    "    q = face_norm(img_path, flag)\n",
    "    z = model_classifier.predict(q)\n",
    "    return label_encoder.inverse_transform(z)"
   ]
  },
  {
   "cell_type": "code",
   "execution_count": 76,
   "metadata": {},
   "outputs": [],
   "source": [
    "image_path = 'H:/python/all1/minor/'"
   ]
  },
  {
   "cell_type": "code",
   "execution_count": 16,
   "metadata": {},
   "outputs": [
    {
     "name": "stderr",
     "output_type": "stream",
     "text": [
      "100%|████████████████████████████████████████████████████████████████████████████████████| 7/7 [00:46<00:00,  6.66s/it]\n"
     ]
    }
   ],
   "source": [
    "x, y = load_dataset(image_path)"
   ]
  },
  {
   "cell_type": "code",
   "execution_count": 17,
   "metadata": {},
   "outputs": [],
   "source": [
    "X = prepro_Arr(x)\n",
    "X_emb = face_emb_Arr(X)\n",
    "X_emb_arr = np.array(X_emb)\n",
    "X_emb_arr = X_emb_arr.reshape(len(X_emb_arr), 128)\n",
    "emb_normalizer = Normalizer(norm = 'l2')\n",
    "X_emb_norm_arr = emb_normalizer.transform(X_emb_arr)"
   ]
  },
  {
   "cell_type": "code",
   "execution_count": 18,
   "metadata": {},
   "outputs": [],
   "source": [
    "label_encoder = LabelEncoder()\n",
    "label_encoder.fit(y)\n",
    "Y_labels_enc = label_encoder.transform(y)"
   ]
  },
  {
   "cell_type": "code",
   "execution_count": 19,
   "metadata": {},
   "outputs": [
    {
     "data": {
      "text/plain": [
       "SVC(C=1.0, cache_size=200, class_weight=None, coef0=0.0,\n",
       "  decision_function_shape='ovr', degree=3, gamma='auto_deprecated',\n",
       "  kernel='linear', max_iter=-1, probability=True, random_state=None,\n",
       "  shrinking=True, tol=0.001, verbose=False)"
      ]
     },
     "execution_count": 19,
     "metadata": {},
     "output_type": "execute_result"
    }
   ],
   "source": [
    "model_classifier = SVC(kernel='linear', probability=True)\n",
    "model_classifier.fit(X_emb_norm_arr, Y_labels_enc)"
   ]
  },
  {
   "cell_type": "code",
   "execution_count": 55,
   "metadata": {},
   "outputs": [],
   "source": [
    "import cv2\n",
    "import numpy as np\n",
    "import dlib"
   ]
  },
  {
   "cell_type": "code",
   "execution_count": 105,
   "metadata": {},
   "outputs": [],
   "source": [
    "cap = cv2.VideoCapture(0)\n",
    "while True:\n",
    "    r, frame = cap.read()\n",
    "    #gray_i = cv2.cvtColor(frame, cv2.COLOR_BGR2GRAY)\n",
    "    #faces = detector(gray_i)\n",
    "    #for face in faces:\n",
    "     #   x1 = face.left()\n",
    "      #  y1 = face.top()\n",
    "       # x2 = face.right()\n",
    "        #y2 = face.bottom()\n",
    "        #cv2.rectangle(frame, (x1, y1), (x2, y2), (0,255,0), 2)\n",
    "        \n",
    "        #landmarks = pred(gray_i, face)\n",
    "\n",
    "        #for n in range(0, 68):\n",
    "         #   x = landmarks.part(n).x\n",
    "          #  y = landmarks.part(n).y\n",
    "           # cv2.circle(frame, (x, y), 4, (255, 0, 0), -1)\n",
    "\n",
    "    cv2.imshow(\"bhanu\", frame)\n",
    "    key = cv2.waitKey(1) & 0xff\n",
    "    if key==27:\n",
    "        break\n",
    "cap.release()\n",
    "cv2.destroyAllWindows()"
   ]
  },
  {
   "cell_type": "code",
   "execution_count": 44,
   "metadata": {},
   "outputs": [],
   "source": [
    "import matplotlib.pyplot as plt"
   ]
  },
  {
   "cell_type": "code",
   "execution_count": 106,
   "metadata": {},
   "outputs": [],
   "source": [
    "frame = frame[:,:,::-1]"
   ]
  },
  {
   "cell_type": "code",
   "execution_count": 64,
   "metadata": {},
   "outputs": [],
   "source": [
    "img_path = 'H:/python/all1/minor/mine.jpg'"
   ]
  },
  {
   "cell_type": "code",
   "execution_count": 107,
   "metadata": {},
   "outputs": [],
   "source": [
    "img_path = frame"
   ]
  },
  {
   "cell_type": "code",
   "execution_count": 108,
   "metadata": {},
   "outputs": [
    {
     "data": {
      "text/plain": [
       "array(['elonmusk'], dtype='<U18')"
      ]
     },
     "execution_count": 108,
     "metadata": {},
     "output_type": "execute_result"
    }
   ],
   "source": [
    "predictor(img_path, 1)"
   ]
  },
  {
   "cell_type": "code",
   "execution_count": null,
   "metadata": {},
   "outputs": [],
   "source": []
  }
 ],
 "metadata": {
  "kernelspec": {
   "display_name": "Python 3",
   "language": "python",
   "name": "python3"
  },
  "language_info": {
   "codemirror_mode": {
    "name": "ipython",
    "version": 3
   },
   "file_extension": ".py",
   "mimetype": "text/x-python",
   "name": "python",
   "nbconvert_exporter": "python",
   "pygments_lexer": "ipython3",
   "version": "3.7.1"
  }
 },
 "nbformat": 4,
 "nbformat_minor": 2
}
